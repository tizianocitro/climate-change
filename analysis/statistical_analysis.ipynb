{
  "cells": [
    {
      "cell_type": "code",
      "execution_count": 8,
      "metadata": {
        "id": "KwqxWpsB5wRu"
      },
      "outputs": [],
      "source": [
        "import numpy as np\n",
        "import matplotlib.pyplot as plt\n",
        "from scipy.stats import ttest_ind, mannwhitneyu, pointbiserialr, ttest_rel\n",
        "from scipy.stats import shapiro, wilcoxon\n",
        "import seaborn as sns\n",
        "from scipy.stats import probplot\n",
        "import statistics\n",
        "from sklearn.preprocessing import *"
      ]
    },
    {
      "cell_type": "code",
      "execution_count": 9,
      "metadata": {
        "id": "gvxL9gPj53Ao"
      },
      "outputs": [],
      "source": [
        "dichotomous_variable = np.array([0, 0, 0, 0, 0, 0, 0, 0,\n",
        "                                 1, 1, 1, 1, 1, 1, 1, 1, 1, 1, 1, 1, 1, 1] )\n",
        "\n",
        "Harvested_success = np.array([80, 80, 40, 90, 60, 70, 40, 40,\n",
        "                              90, 60, 60, 90, 60, 40, 80, 80, 60, 70, 50, 90, 80, 80])\n",
        "\n",
        "Harvested_error = np.array([4, 2, 8, 5, 5, 3, 8, 10,\n",
        "                            4, 6, 8, 1, 5, 10, 4, 3, 6, 6, 7, 2, 3, 3])\n",
        "\n",
        "Augmented_success = np.array([83, 83, 50, 83, 33, 67, 58, 33,\n",
        "                                100, 83, 67, 100, 67, 50, 92, 58, 50, 67, 67, 83, 92, 50])\n",
        "\n",
        "Augmented_error = np.array([3, 2, 8, 3, 10, 5, 8, 11,\n",
        "                       0, 2, 6, 0, 7, 8, 1, 8, 6, 6, 5, 3, 1, 6])\n",
        "\n",
        "HOOD_success = np.array([77, 100, 46, 92, 92, 92, 54, 54,\n",
        "                         92, 77, 38, 100, 92, 69, 85, 69, 85, 54, 92, 85, 100, 85])\n",
        "\n",
        "HOOD_error = np.array([3, 0, 9, 2, 1, 0, 10, 9,\n",
        "                       1, 4, 12, 0, 2, 5, 3, 5, 2, 8, 2, 2, 0, 2])\n"
      ]
    },
    {
      "cell_type": "code",
      "execution_count": 10,
      "metadata": {
        "colab": {
          "base_uri": "https://localhost:8080/"
        },
        "id": "kRIJniRKOU7F",
        "outputId": "5c653fd1-43cd-4b50-ad25-5db0508410e8"
      },
      "outputs": [
        {
          "name": "stdout",
          "output_type": "stream",
          "text": [
            "Harvested - HOOD * (p<0.01)\n",
            "Paired ttest -  -3.1020324766035885\n",
            "Paired ttest -  0.0053976855605649635\n",
            " ** (p<0.01)\n",
            "Augemented - HOOD * (p<0.05)\n",
            "Paired ttest -  -2.2932416106326134\n",
            "Paired ttest -  0.03225533716079218\n",
            " * (p<0.05)\n",
            "Harvested - Augmented\n",
            "Paired ttest -  -0.3876835879298298\n",
            "Paired ttest -  0.70215183235096\n",
            "not stat significant\n"
          ]
        }
      ],
      "source": [
        "# PAIRED T-TEST - WITHIN SUBJECT ANALYSIS\n",
        "\n",
        "paired_ttest_harvested_hood, paired_p_harvested_hood = ttest_rel(Harvested_success, HOOD_success)\n",
        "print(\"Harvested - HOOD * (p<0.01)\")\n",
        "print(\"Paired ttest - \", paired_ttest_harvested_hood)\n",
        "print(\"Paired ttest - \", paired_p_harvested_hood)\n",
        "print(\" *** (p<0.001)\") if paired_p_harvested_hood<0.001 else print(\" ** (p<0.01)\") if paired_p_harvested_hood<0.01 else print(\" * (p<0.05)\") if paired_p_harvested_hood<0.05 else print(\"not stat significant\")\n",
        "\n",
        "paired_ttest_augmented_hood, paired_p_augmented_hood = ttest_rel(Augmented_success, HOOD_success)\n",
        "print(\"Augemented - HOOD * (p<0.05)\")\n",
        "print(\"Paired ttest - \", paired_ttest_augmented_hood)\n",
        "print(\"Paired ttest - \", paired_p_augmented_hood)\n",
        "print(\" *** (p<0.001)\") if paired_p_augmented_hood<0.001 else print(\" ** (p<0.01)\") if paired_p_augmented_hood<0.01 else print(\" * (p<0.05)\") if paired_p_augmented_hood<0.05 else print(\"not stat significant\")\n",
        "\n",
        "paired_ttest_augmented_harvested, paired_p_augmented_harvested = ttest_rel(Harvested_success, Augmented_success)\n",
        "print(\"Harvested - Augmented\")\n",
        "print(\"Paired ttest - \", paired_ttest_augmented_harvested)\n",
        "print(\"Paired ttest - \", paired_p_augmented_harvested)\n",
        "print(\" *** (p<0.001)\") if paired_p_augmented_harvested<0.001 else print(\" ** (p<0.01)\") if paired_p_augmented_harvested<0.01 else print(\" * (p<0.05)\") if paired_p_augmented_harvested<0.05 else print(\"not stat significant\")\n"
      ]
    },
    {
      "cell_type": "code",
      "execution_count": 11,
      "metadata": {
        "colab": {
          "base_uri": "https://localhost:8080/"
        },
        "id": "lGDsszAP575_",
        "outputId": "9de8fd02-6630-4fc2-bdce-05c33d7818fa"
      },
      "outputs": [
        {
          "name": "stdout",
          "output_type": "stream",
          "text": [
            "T-Test - Harvested success - non eng vs eng\n",
            "T-statistic: -0.9764309707972245\n",
            "P-value: 0.3483163258204428\n",
            "not stat significant\n"
          ]
        }
      ],
      "source": [
        "continuous_variable = Harvested_success\n",
        "\n",
        "category_0 = continuous_variable[dichotomous_variable == 0]\n",
        "category_1 = continuous_variable[dichotomous_variable == 1]\n",
        "\n",
        "print(\"T-Test - Harvested success - non eng vs eng\")\n",
        "result = ttest_ind(category_0, category_1, equal_var=False)\n",
        "print(\"T-statistic:\", result.statistic)\n",
        "print(\"P-value:\", result.pvalue)\n",
        "print(\" *** (p<0.001)\") if result.pvalue<0.001 else print(\" ** (p<0.01)\") if result.pvalue<0.01 else print(\" * (p<0.05)\") if result.pvalue<0.05 else print(\"not stat significant\")\n"
      ]
    },
    {
      "cell_type": "code",
      "execution_count": 12,
      "metadata": {
        "colab": {
          "base_uri": "https://localhost:8080/"
        },
        "id": "0Kj0_FBi5P9R",
        "outputId": "1db6da2f-089a-4c10-fdb3-eaa0b22905fb"
      },
      "outputs": [
        {
          "name": "stdout",
          "output_type": "stream",
          "text": [
            "T-Test - Augmented success - non eng vs eng\n",
            "T-statistic: -1.3397698233641342\n",
            "P-value: 0.20349077521943335\n",
            "not stat significant\n"
          ]
        }
      ],
      "source": [
        "continuous_variable = Augmented_success\n",
        "\n",
        "category_0 = continuous_variable[dichotomous_variable == 0]\n",
        "category_1 = continuous_variable[dichotomous_variable == 1]\n",
        "\n",
        "print(\"T-Test - Augmented success - non eng vs eng\")\n",
        "result = ttest_ind(category_0, category_1, equal_var=False)\n",
        "print(\"T-statistic:\", result.statistic)\n",
        "print(\"P-value:\", result.pvalue)\n",
        "print(\" *** (p<0.001)\") if result.pvalue<0.001 else print(\" ** (p<0.01)\") if result.pvalue<0.01 else print(\" * (p<0.05)\") if result.pvalue<0.05 else print(\"not stat significant\")\n"
      ]
    },
    {
      "cell_type": "code",
      "execution_count": 13,
      "metadata": {
        "colab": {
          "base_uri": "https://localhost:8080/"
        },
        "id": "fh66CwVC5T4i",
        "outputId": "1fd6963d-66da-4e3b-a275-c28d55969cb9"
      },
      "outputs": [
        {
          "name": "stdout",
          "output_type": "stream",
          "text": [
            "T-Test - HOOD success - non eng vs eng\n",
            "T-statistic: -0.48675084939129487\n",
            "P-value: 0.6348996157305082\n",
            "not stat significant\n"
          ]
        }
      ],
      "source": [
        "continuous_variable = HOOD_success\n",
        "\n",
        "category_0 = continuous_variable[dichotomous_variable == 0]\n",
        "category_1 = continuous_variable[dichotomous_variable == 1]\n",
        "\n",
        "print(\"T-Test - HOOD success - non eng vs eng\")\n",
        "result = ttest_ind(category_0, category_1, equal_var=False)\n",
        "print(\"T-statistic:\", result.statistic)\n",
        "print(\"P-value:\", result.pvalue)\n",
        "print(\" *** (p<0.001)\") if result.pvalue<0.001 else print(\" ** (p<0.01)\") if result.pvalue<0.01 else print(\" * (p<0.05)\") if result.pvalue<0.05 else print(\"not stat significant\")\n",
        "\n"
      ]
    }
  ],
  "metadata": {
    "colab": {
      "provenance": []
    },
    "kernelspec": {
      "display_name": "Python 3",
      "name": "python3"
    },
    "language_info": {
      "codemirror_mode": {
        "name": "ipython",
        "version": 3
      },
      "file_extension": ".py",
      "mimetype": "text/x-python",
      "name": "python",
      "nbconvert_exporter": "python",
      "pygments_lexer": "ipython3",
      "version": "3.11.9"
    }
  },
  "nbformat": 4,
  "nbformat_minor": 0
}
