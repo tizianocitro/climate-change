{
  "cells": [
    {
      "cell_type": "code",
      "execution_count": 16,
      "metadata": {
        "id": "deGXNp9VcnYF"
      },
      "outputs": [],
      "source": [
        "import operator\n",
        "import numpy as np\n",
        "from scipy.stats import shapiro\n",
        "from scipy.stats import kruskal\n"
      ]
    },
    {
      "cell_type": "code",
      "execution_count": 4,
      "metadata": {
        "id": "_0NDL2bXZPEO"
      },
      "outputs": [],
      "source": [
        "users = np.array(list(range(1,24)))\n",
        "users = np.delete(users, 16)"
      ]
    },
    {
      "cell_type": "code",
      "execution_count": 5,
      "metadata": {
        "id": "4sfvWkWQcmdH"
      },
      "outputs": [],
      "source": [
        "Harvested_success = np.array([80, 40, 40, 80, 40, 80, 60, 90, 80, 90, 60, 60, 40, 50, 70, 80, 90, 80, 60, 60, 90, 70])\n",
        "\n",
        "Harvested_error = np.array([4, 8, 10, 2, 8, 3, 5, 2, 3, 4, 8, 6, 10, 7, 6, 3, 1, 4, 6, 5, 5, 3])\n",
        "\n",
        "Augmented_success = np.array([83, 50, 33, 83, 58, 92, 67, 83, 50, 100, 67, 50, 50, 67, 67, 58, 100, 92, 83, 33, 83, 67])\n",
        "\n",
        "Augmented_error = np.array([3, 8, 11, 2, 8, 1, 7, 3, 6, 0, 6, 6, 8, 5, 6, 8, 0, 1, 2, 10, 3, 5])\n",
        "\n",
        "HOOD_success = np.array([77, 46, 54, 100, 54, 100, 92, 85, 85, 92, 38, 85, 69, 92, 54, 69, 100, 85, 77, 92, 92, 92])\n",
        "\n",
        "HOOD_error = np.array([3, 9, 9, 0, 10, 0, 2, 2, 2, 1, 12, 2, 5, 2, 8, 5, 0, 3, 4, 1, 2, 0])"
      ]
    },
    {
      "cell_type": "code",
      "execution_count": 7,
      "metadata": {
        "id": "0SJZ2fnEf7Vj"
      },
      "outputs": [],
      "source": [
        "groups = np.array([1, 1, 1, 5, 5, 1, 1, 1, 3, 5, 1, 4, 1, 2, 5, 1, 3, 1, 4, 3, 4, 2])"
      ]
    },
    {
      "cell_type": "code",
      "execution_count": 8,
      "metadata": {
        "colab": {
          "base_uri": "https://localhost:8080/"
        },
        "id": "57cw9q0tgysE",
        "outputId": "485663d2-5a26-4ba8-851c-9b11724dbb77"
      },
      "outputs": [
        {
          "name": "stdout",
          "output_type": "stream",
          "text": [
            "Harvested success\n",
            "group1 does NOT follow a normal distribution (reject H0)\n",
            "Skip group2 because 3 samples are required\n",
            "group3 follows a normal distribution (fail to reject H0)\n",
            "group4 does NOT follow a normal distribution (reject H0)\n",
            "group5 follows a normal distribution (fail to reject H0)\n",
            "{'group1': array([80, 40, 40, 80, 60, 90, 60, 40, 80, 80]), 'group2': array([50, 70]), 'group3': array([80, 90, 60]), 'group4': array([60, 60, 90]), 'group5': array([80, 40, 90, 70])}\n"
          ]
        }
      ],
      "source": [
        "print(\"Harvested success\")\n",
        "\n",
        "# If the p-value is “small” - there is a low probability of sampling data from a normally distributed population that produces such an extreme value of the statistic\n",
        "\n",
        "alpha = 0.05\n",
        "continuous_variable = Harvested_success\n",
        "groups_Harvested_success = {}\n",
        "for x in range(1, 6):\n",
        "  groups_Harvested_success[f\"group{x}\"] = continuous_variable[groups==x]\n",
        "  if len(groups_Harvested_success[f\"group{x}\"])<3:\n",
        "    print(\"Skip \" + f\"group{x}\" + \" because 3 samples are required\")\n",
        "    continue\n",
        "  statistic, p_value = shapiro(groups_Harvested_success[f\"group{x}\"])\n",
        "  if p_value > alpha:\n",
        "    print(f\"group{x}\" + \" follows a normal distribution (fail to reject H0)\")\n",
        "  else:\n",
        "    print(f\"group{x}\" + \" does NOT follow a normal distribution (reject H0)\")\n",
        "\n",
        "print(groups_Harvested_success)"
      ]
    },
    {
      "cell_type": "code",
      "execution_count": 10,
      "metadata": {
        "colab": {
          "base_uri": "https://localhost:8080/"
        },
        "id": "id06uizumuXF",
        "outputId": "02c44ffe-82bf-4b1a-b791-8c50a60f8ca6"
      },
      "outputs": [
        {
          "name": "stdout",
          "output_type": "stream",
          "text": [
            "Statistiche del test di Kruskal-Wallis:\n",
            "H-statistic = 1.6017\n",
            "p-value = 0.8085\n",
            "Il p-value è superiore al livello di significatività. Non ci sono differenze significative tra i gruppi.\n"
          ]
        }
      ],
      "source": [
        "h_statistic, p_value = kruskal(groups_Harvested_success['group1'],\n",
        "                               groups_Harvested_success['group2'],\n",
        "                               groups_Harvested_success['group3'],\n",
        "                               groups_Harvested_success['group4'],\n",
        "                               groups_Harvested_success['group5'])\n",
        "\n",
        "# Interpretazione dei risultati\n",
        "alpha = 0.05  # livello di significatività\n",
        "\n",
        "print(f\"Statistiche del test di Kruskal-Wallis:\")\n",
        "print(f\"H-statistic = {h_statistic:.4f}\")\n",
        "print(f\"p-value = {p_value:.4f}\")\n",
        "\n",
        "if p_value < alpha:\n",
        "    print(\"Il p-value è inferiore al livello di significatività. Ci sono differenze significative tra almeno due gruppi.\")\n",
        "else:\n",
        "    print(\"Il p-value è superiore al livello di significatività. Non ci sono differenze significative tra i gruppi.\")\n"
      ]
    },
    {
      "cell_type": "code",
      "execution_count": 11,
      "metadata": {
        "colab": {
          "base_uri": "https://localhost:8080/"
        },
        "id": "6cFZuUQ5gUOT",
        "outputId": "e3dddd0c-56ec-4a14-d72b-9b37102d3ad9"
      },
      "outputs": [
        {
          "name": "stdout",
          "output_type": "stream",
          "text": [
            "Augmented success\n",
            "group1 follows a normal distribution (fail to reject H0)\n",
            "Skip group2 because 3 samples are required\n",
            "group3 follows a normal distribution (fail to reject H0)\n",
            "group4 does NOT follow a normal distribution (reject H0)\n",
            "group5 follows a normal distribution (fail to reject H0)\n",
            "{'group1': array([83, 50, 33, 92, 67, 83, 67, 50, 58, 92]), 'group2': array([67, 67]), 'group3': array([ 50, 100,  33]), 'group4': array([50, 83, 83]), 'group5': array([ 83,  58, 100,  67])}\n"
          ]
        }
      ],
      "source": [
        "print(\"Augmented success\")\n",
        "\n",
        "alpha = 0.05\n",
        "continuous_variable = Augmented_success\n",
        "groups_Augmented_success = {}\n",
        "for x in range(1, 6):\n",
        "  groups_Augmented_success[f\"group{x}\"] = continuous_variable[groups==x]\n",
        "  if len(groups_Augmented_success[f\"group{x}\"])<3:\n",
        "    print(\"Skip \" + f\"group{x}\" + \" because 3 samples are required\")\n",
        "    continue\n",
        "  statistic, p_value = shapiro(groups_Augmented_success[f\"group{x}\"])\n",
        "  if p_value > alpha:\n",
        "    print(f\"group{x}\" + \" follows a normal distribution (fail to reject H0)\")\n",
        "  else:\n",
        "    print(f\"group{x}\" + \" does NOT follow a normal distribution (reject H0)\")\n",
        "\n",
        "print(groups_Augmented_success)"
      ]
    },
    {
      "cell_type": "code",
      "execution_count": 12,
      "metadata": {
        "colab": {
          "base_uri": "https://localhost:8080/"
        },
        "id": "Yyr0jJxRnP3j",
        "outputId": "d2a29568-b421-4d53-b535-f4eec57aab40"
      },
      "outputs": [
        {
          "name": "stdout",
          "output_type": "stream",
          "text": [
            "Statistiche del test di Kruskal-Wallis:\n",
            "H-statistic = 1.0950\n",
            "p-value = 0.8951\n",
            "Il p-value è superiore al livello di significatività. Non ci sono differenze significative tra i gruppi.\n"
          ]
        }
      ],
      "source": [
        "h_statistic, p_value = kruskal(groups_Augmented_success['group1'],\n",
        "                               groups_Augmented_success['group2'],\n",
        "                               groups_Augmented_success['group3'],\n",
        "                               groups_Augmented_success['group4'],\n",
        "                               groups_Augmented_success['group5'])\n",
        "\n",
        "# Interpretazione dei risultati\n",
        "alpha = 0.05  # livello di significatività\n",
        "\n",
        "print(f\"Statistiche del test di Kruskal-Wallis:\")\n",
        "print(f\"H-statistic = {h_statistic:.4f}\")\n",
        "print(f\"p-value = {p_value:.4f}\")\n",
        "\n",
        "if p_value < alpha:\n",
        "    print(\"Il p-value è inferiore al livello di significatività. Ci sono differenze significative tra almeno due gruppi.\")\n",
        "else:\n",
        "    print(\"Il p-value è superiore al livello di significatività. Non ci sono differenze significative tra i gruppi.\")\n"
      ]
    },
    {
      "cell_type": "code",
      "execution_count": 13,
      "metadata": {
        "colab": {
          "base_uri": "https://localhost:8080/"
        },
        "id": "uOCrjGkAmEhS",
        "outputId": "2f8b6093-1d53-4987-b576-9b01b2cc0d8b"
      },
      "outputs": [
        {
          "name": "stdout",
          "output_type": "stream",
          "text": [
            "HOOD success\n",
            "group1 follows a normal distribution (fail to reject H0)\n",
            "Skip group2 because 3 samples are required\n",
            "group3 follows a normal distribution (fail to reject H0)\n",
            "group4 follows a normal distribution (fail to reject H0)\n",
            "group5 follows a normal distribution (fail to reject H0)\n",
            "{'group1': array([ 77,  46,  54, 100,  92,  85,  38,  69,  69,  85]), 'group2': array([92, 92]), 'group3': array([ 85, 100,  92]), 'group4': array([85, 77, 92]), 'group5': array([100,  54,  92,  54])}\n"
          ]
        }
      ],
      "source": [
        "print(\"HOOD success\")\n",
        "\n",
        "alpha = 0.05\n",
        "continuous_variable = HOOD_success\n",
        "groups_HOOD_success = {}\n",
        "for x in range(1, 6):\n",
        "  groups_HOOD_success[f\"group{x}\"] = continuous_variable[groups==x]\n",
        "  if len(groups_HOOD_success[f\"group{x}\"])<3:\n",
        "    print(\"Skip \" + f\"group{x}\" + \" because 3 samples are required\")\n",
        "    continue\n",
        "  statistic, p_value = shapiro(groups_HOOD_success[f\"group{x}\"])\n",
        "  if p_value > alpha:\n",
        "    print(f\"group{x}\" + \" follows a normal distribution (fail to reject H0)\")\n",
        "  else:\n",
        "    print(f\"group{x}\" + \" does NOT follow a normal distribution (reject H0)\")\n",
        "\n",
        "print(groups_HOOD_success)"
      ]
    },
    {
      "cell_type": "code",
      "execution_count": 15,
      "metadata": {
        "colab": {
          "base_uri": "https://localhost:8080/"
        },
        "id": "w_B0Da-nnXVH",
        "outputId": "dd831d12-f727-4543-97c8-021d8675d709"
      },
      "outputs": [
        {
          "name": "stdout",
          "output_type": "stream",
          "text": [
            "Statistiche del test di Kruskal-Wallis:\n",
            "H-statistic = 4.6278\n",
            "p-value = 0.3277\n",
            "Il p-value è superiore al livello di significatività. Non ci sono differenze significative tra i gruppi.\n"
          ]
        }
      ],
      "source": [
        "h_statistic, p_value = kruskal(groups_HOOD_success['group1'],\n",
        "                               groups_HOOD_success['group2'],\n",
        "                               groups_HOOD_success['group3'],\n",
        "                               groups_HOOD_success['group4'],\n",
        "                               groups_HOOD_success['group5'])\n",
        "\n",
        "# Interpretazione dei risultati\n",
        "alpha = 0.05  # livello di significatività\n",
        "\n",
        "print(f\"Statistiche del test di Kruskal-Wallis:\")\n",
        "print(f\"H-statistic = {h_statistic:.4f}\")\n",
        "print(f\"p-value = {p_value:.4f}\")\n",
        "\n",
        "if p_value < alpha:\n",
        "    print(\"Il p-value è inferiore al livello di significatività. Ci sono differenze significative tra almeno due gruppi.\")\n",
        "else:\n",
        "    print(\"Il p-value è superiore al livello di significatività. Non ci sono differenze significative tra i gruppi.\")\n"
      ]
    }
  ],
  "metadata": {
    "colab": {
      "provenance": []
    },
    "kernelspec": {
      "display_name": "Python 3",
      "name": "python3"
    },
    "language_info": {
      "name": "python"
    }
  },
  "nbformat": 4,
  "nbformat_minor": 0
}
